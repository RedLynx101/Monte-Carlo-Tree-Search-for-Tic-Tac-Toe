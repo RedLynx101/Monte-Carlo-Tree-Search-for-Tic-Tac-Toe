{
 "cells": [
  {
   "cell_type": "markdown",
   "id": "4fde7e38",
   "metadata": {},
   "source": [
    "# Homework 2\n",
    "\n",
    "Author: Noah Hicks\n",
    "\n",
    "Date: 09-30-2025\n",
    "\n",
    "Net ID: nhicks\n",
    "\n",
    "Note: In-line autocomplete done with GPT-5 within Cursor. Author approves and takes responsibility for all work.\n",
    "\n",
    "## Monte Carlo Tree Search for 4x4 Tic-Tac-Toe\n",
    "\n",
    "This notebook implements a 4x4 Tic-Tac-Toe game engine and Monte Carlo Tree Search (MCTS)\n",
    "to compare random play versus MCTS-guided play, as required for 95-891 Introduction to AI HW2.\n",
    "\n",
    "Project:\n",
    "- Implement a 4x4 Tic-Tac-Toe engine with move, undo, and winner detection.\n",
    "- Implement MCTS (with UCT) for move selection.\n",
    "- Run experiments: Random vs Random, MCTS vs Random, and sweep UCT exploration weight C.\n",
    "- Report win rates for X (first player) using the scoring: win=1.0, draw=0.5, loss=0.0.\n",
    "- All code and results are in this notebook."
   ]
  },
  {
   "cell_type": "markdown",
   "id": "1a1cc818",
   "metadata": {},
   "source": [
    "## Contents\n",
    "\n",
    "1. Setup\n",
    "2. Game Engine: TicTacToe4x4\n",
    "3. MCTS Node\n",
    "4. MCTS Search\n",
    "5. Experiments\n",
    "   - Random vs Random baseline\n",
    "   - MCTS (X) vs Random (O)\n",
    "   - Sweep exploration weight C\n",
    "6. Answers\n"
   ]
  },
  {
   "cell_type": "markdown",
   "id": "416037d9",
   "metadata": {},
   "source": [
    "## Setup\n",
    "\n",
    "This notebook implements 4x4 Tic-Tac-Toe and Monte Carlo Tree Search (MCTS) experiments. \n"
   ]
  },
  {
   "cell_type": "code",
   "execution_count": 23,
   "id": "17cc783e",
   "metadata": {},
   "outputs": [],
   "source": [
    "import numpy as np\n",
    "import random\n",
    "import math\n",
    "from typing import List, Optional, Tuple\n",
    "\n",
    "RANDOM_SEED = 42\n",
    "random.seed(RANDOM_SEED)\n",
    "np.random.seed(RANDOM_SEED)\n",
    "\n"
   ]
  },
  {
   "cell_type": "markdown",
   "id": "32beed75",
   "metadata": {},
   "source": [
    "## Game Engine: TicTacToe4x4\n"
   ]
  },
  {
   "cell_type": "code",
   "execution_count": 24,
   "id": "388de403",
   "metadata": {},
   "outputs": [],
   "source": [
    "class TicTacToe4x4:\n",
    "    \"\"\"4x4 Tic-Tac-Toe environment.\n",
    "\n",
    "    State:\n",
    "        - board: 4x4 list of str; values in {' ', 'X', 'O'}\n",
    "        - current_player: 'X' or 'O' (X starts)\n",
    "\n",
    "    Scoring/reporting is from X's perspective.\n",
    "    \"\"\"\n",
    "\n",
    "    def __init__(self):\n",
    "        self.size = 4\n",
    "        self.board = [[' ' for _ in range(self.size)] for _ in range(self.size)]\n",
    "        self.current_player = 'X'\n",
    "\n",
    "    def clone(self) -> 'TicTacToe4x4':\n",
    "        clone = TicTacToe4x4()\n",
    "        clone.board = [row[:] for row in self.board]\n",
    "        clone.current_player = self.current_player\n",
    "        return clone\n",
    "\n",
    "    def available_moves(self) -> List[Tuple[int, int]]:\n",
    "        moves = []\n",
    "        for r in range(self.size):\n",
    "            for c in range(self.size):\n",
    "                if self.board[r][c] == ' ':\n",
    "                    moves.append((r, c))\n",
    "        return moves\n",
    "\n",
    "    def make_move(self, move: Tuple[int, int]) -> None:\n",
    "        r, c = move\n",
    "        if self.board[r][c] != ' ':\n",
    "            raise ValueError(\"Invalid move: cell not empty\")\n",
    "        self.board[r][c] = self.current_player\n",
    "        self.current_player = 'O' if self.current_player == 'X' else 'X'\n",
    "\n",
    "    def undo_move(self, move: Tuple[int, int]) -> None:\n",
    "        r, c = move\n",
    "        if self.board[r][c] == ' ':\n",
    "            raise ValueError(\"Invalid undo: cell already empty\")\n",
    "        self.board[r][c] = ' '\n",
    "        self.current_player = 'O' if self.current_player == 'X' else 'X'\n",
    "\n",
    "    def check_winner(self) -> Optional[str]:\n",
    "        # Rows and columns\n",
    "        lines = []\n",
    "        lines.extend(self.board)\n",
    "        lines.extend([[self.board[r][c] for r in range(self.size)] for c in range(self.size)])\n",
    "        # Diagonals\n",
    "        lines.append([self.board[i][i] for i in range(self.size)])\n",
    "        lines.append([self.board[i][self.size - 1 - i] for i in range(self.size)])\n",
    "        for line in lines:\n",
    "            if all(cell == 'X' for cell in line):\n",
    "                return 'X'\n",
    "            if all(cell == 'O' for cell in line):\n",
    "                return 'O'\n",
    "        # Draw if no empty spaces and no winner\n",
    "        if all(self.board[r][c] != ' ' for r in range(self.size) for c in range(self.size)):\n",
    "            return 'Draw'\n",
    "        return None\n",
    "\n",
    "    def is_terminal(self) -> bool:\n",
    "        return self.check_winner() is not None\n",
    "\n",
    "    def score_from_x_perspective(self) -> float:\n",
    "        winner = self.check_winner()\n",
    "        if winner == 'X':\n",
    "            return 1.0\n",
    "        if winner == 'O':\n",
    "            return 0.0\n",
    "        if winner == 'Draw':\n",
    "            return 0.5\n",
    "        return 0.0  # Non-terminal; callers should not request score prematurely\n",
    "\n"
   ]
  },
  {
   "cell_type": "markdown",
   "id": "27ca6dd1",
   "metadata": {},
   "source": [
    "## MCTS Node\n"
   ]
  },
  {
   "cell_type": "code",
   "execution_count": 25,
   "id": "af4c90d8",
   "metadata": {},
   "outputs": [],
   "source": [
    "class MCTSNode:\n",
    "    \"\"\"Node for MCTS.\n",
    "\n",
    "    Tracks visits and cumulative value from X's perspective.\n",
    "    \"\"\"\n",
    "\n",
    "    def __init__(self, state: TicTacToe4x4, parent: Optional['MCTSNode'] = None, move: Optional[Tuple[int, int]] = None):\n",
    "        self.state = state\n",
    "        self.parent = parent\n",
    "        self.move = move\n",
    "        self.children = {}\n",
    "        self.untried_moves = state.available_moves()\n",
    "        random.shuffle(self.untried_moves)\n",
    "        self.visits = 0\n",
    "        self.value = 0.0  # cumulative reward from X perspective\n",
    "\n",
    "    def is_fully_expanded(self) -> bool:\n",
    "        return len(self.untried_moves) == 0\n",
    "\n",
    "    def expand(self) -> 'MCTSNode':\n",
    "        move = self.untried_moves.pop()\n",
    "        next_state = self.state.clone()\n",
    "        next_state.make_move(move)\n",
    "        child = MCTSNode(next_state, parent=self, move=move)\n",
    "        self.children[move] = child\n",
    "        return child\n",
    "\n",
    "    def best_child(self, exploration_weight: float) -> 'MCTSNode':\n",
    "        assert self.visits > 0, \"Parent must have been visited before selecting best child\"\n",
    "        best_score = -float('inf')\n",
    "        best = None\n",
    "        for move, child in self.children.items():\n",
    "            if child.visits == 0:\n",
    "                uct = float('inf')\n",
    "            else:\n",
    "                avg_value = child.value / child.visits\n",
    "                # Convert X-perspective value to current player's perspective at this node\n",
    "                if self.state.current_player == 'X':\n",
    "                    exploitation = avg_value\n",
    "                else:\n",
    "                    exploitation = 1.0 - avg_value\n",
    "                uct = exploitation + exploration_weight * math.sqrt(math.log(self.visits) / child.visits)\n",
    "            if uct > best_score:\n",
    "                best_score = uct\n",
    "                best = child\n",
    "        return best\n",
    "\n"
   ]
  },
  {
   "cell_type": "markdown",
   "id": "597c8695",
   "metadata": {},
   "source": [
    "## MCTS Search\n"
   ]
  },
  {
   "cell_type": "code",
   "execution_count": 26,
   "id": "96560b39",
   "metadata": {},
   "outputs": [],
   "source": [
    "class MCTS:\n",
    "    \"\"\"Monte Carlo Tree Search with UCT selection.\"\"\"\n",
    "\n",
    "    def __init__(self, itermax: int = 1000, exploration_weight: float = 1.4):\n",
    "        self.itermax = itermax\n",
    "        self.exploration_weight = exploration_weight\n",
    "\n",
    "    def search(self, root_state: TicTacToe4x4) -> Tuple[int, int]:\n",
    "        root = MCTSNode(root_state.clone())\n",
    "        for _ in range(self.itermax):\n",
    "            node = self._select(root)\n",
    "            result = self._simulate(node.state.clone())\n",
    "            self._backpropagate(node, result)\n",
    "        # Choose the child with highest average value (exploitation only)\n",
    "        best_move = None\n",
    "        best_avg = -float('inf')\n",
    "        for move, child in root.children.items():\n",
    "            if child.visits == 0:\n",
    "                continue\n",
    "            avg = child.value / child.visits\n",
    "            if avg > best_avg:\n",
    "                best_avg = avg\n",
    "                best_move = move\n",
    "        if best_move is None:\n",
    "            # fallback to any available move\n",
    "            moves = root_state.available_moves()\n",
    "            return random.choice(moves)\n",
    "        return best_move\n",
    "\n",
    "    def _select(self, node: MCTSNode) -> MCTSNode:\n",
    "        while not node.state.is_terminal():\n",
    "            if not node.is_fully_expanded():\n",
    "                return node.expand()\n",
    "            else:\n",
    "                node = node.best_child(self.exploration_weight)\n",
    "        return node\n",
    "\n",
    "    def _simulate(self, state: TicTacToe4x4) -> float:\n",
    "        # Random rollout until terminal; return score from X's perspective\n",
    "        while not state.is_terminal():\n",
    "            moves = state.available_moves()\n",
    "            move = random.choice(moves)\n",
    "            state.make_move(move)\n",
    "        return state.score_from_x_perspective()\n",
    "\n",
    "    def _backpropagate(self, node: MCTSNode, result: float) -> None:\n",
    "        while node is not None:\n",
    "            node.visits += 1\n",
    "            node.value += result\n",
    "            node = node.parent\n",
    "\n"
   ]
  },
  {
   "cell_type": "markdown",
   "id": "f4b26f73",
   "metadata": {},
   "source": [
    "## Experiments"
   ]
  },
  {
   "cell_type": "markdown",
   "id": "b6f96bb2",
   "metadata": {},
   "source": [
    "### Random vs Random baseline"
   ]
  },
  {
   "cell_type": "code",
   "execution_count": 27,
   "id": "b097376f",
   "metadata": {},
   "outputs": [
    {
     "data": {
      "text/plain": [
       "0.54"
      ]
     },
     "execution_count": 27,
     "metadata": {},
     "output_type": "execute_result"
    }
   ],
   "source": [
    "def play_random_vs_random(n_games: int, seed: int = 42) -> float:\n",
    "    random.seed(seed)\n",
    "    np.random.seed(seed)\n",
    "    total_score = 0.0\n",
    "    for _ in range(n_games):\n",
    "        env = TicTacToe4x4()\n",
    "        while not env.is_terminal():\n",
    "            move = random.choice(env.available_moves())\n",
    "            env.make_move(move)\n",
    "        total_score += env.score_from_x_perspective()\n",
    "    return total_score / n_games\n",
    "\n",
    "# Quick smoke test for baseline\n",
    "baseline_avg = play_random_vs_random(50, seed=RANDOM_SEED)\n",
    "baseline_avg\n"
   ]
  },
  {
   "cell_type": "markdown",
   "id": "65060ceb",
   "metadata": {},
   "source": [
    "### MCTS (X) vs Random (O)"
   ]
  },
  {
   "cell_type": "code",
   "execution_count": 28,
   "id": "20437d63",
   "metadata": {},
   "outputs": [
    {
     "data": {
      "text/plain": [
       "1.0"
      ]
     },
     "execution_count": 28,
     "metadata": {},
     "output_type": "execute_result"
    }
   ],
   "source": [
    "def play_mcts_vs_random(n_games: int, itermax: int, C: float, seed: int = 42) -> float:\n",
    "    random.seed(seed)\n",
    "    np.random.seed(seed)\n",
    "    total_score = 0.0\n",
    "    for _ in range(n_games):\n",
    "        env = TicTacToe4x4()\n",
    "        mcts = MCTS(itermax=itermax, exploration_weight=C)\n",
    "        while not env.is_terminal():\n",
    "            if env.current_player == 'X':\n",
    "                move = mcts.search(env)\n",
    "            else:\n",
    "                move = random.choice(env.available_moves())\n",
    "            env.make_move(move)\n",
    "        total_score += env.score_from_x_perspective()\n",
    "    return total_score / n_games\n",
    "\n",
    "# Quick smoke test for MCTS vs Random\n",
    "mcts_avg = play_mcts_vs_random(n_games=50, itermax=400, C=1.4, seed=RANDOM_SEED)\n",
    "mcts_avg\n"
   ]
  },
  {
   "cell_type": "markdown",
   "id": "69de6f46",
   "metadata": {},
   "source": [
    "### Sweep exploration weight C"
   ]
  },
  {
   "cell_type": "code",
   "execution_count": 29,
   "id": "c0289112",
   "metadata": {},
   "outputs": [
    {
     "data": {
      "text/plain": [
       "(0.5, 0.9925)"
      ]
     },
     "execution_count": 29,
     "metadata": {},
     "output_type": "execute_result"
    },
    {
     "data": {
      "image/png": "[encoded data removed]",
      "text/plain": [
       "<Figure size 600x400 with 1 Axes>"
      ]
     },
     "metadata": {},
     "output_type": "display_data"
    }
   ],
   "source": [
    "import matplotlib.pyplot as plt\n",
    "\n",
    "def sweep_C_and_plot(C_values, n_games: int, itermax: int, seed: int = 42):\n",
    "    results = []\n",
    "    for C in C_values:\n",
    "        avg = play_mcts_vs_random(n_games=n_games, itermax=itermax, C=C, seed=seed)\n",
    "        results.append(avg)\n",
    "    plt.figure(figsize=(6,4))\n",
    "    plt.plot(C_values, results, marker='o')\n",
    "    plt.xlabel('Exploration weight C')\n",
    "    plt.ylabel('Average X score')\n",
    "    plt.title('MCTS (X) vs Random (O): Win rate vs C')\n",
    "    plt.grid(True, alpha=0.3)\n",
    "    best_idx = int(np.argmax(results))\n",
    "    best_C = C_values[best_idx]\n",
    "    best_avg = results[best_idx]\n",
    "    return C_values, results, best_C, best_avg\n",
    "\n",
    "# Quick smoke test\n",
    "C_values = [0.2, 0.5, 1.0, 1.4, 2.0]\n",
    "C_values, results, best_C, best_avg = sweep_C_and_plot(C_values, n_games=200, itermax=300, seed=RANDOM_SEED)\n",
    "(best_C, best_avg)\n"
   ]
  },
  {
   "cell_type": "markdown",
   "id": "b76feb0a",
   "metadata": {},
   "source": [
    "## Answers\n",
    "\n",
    "1. We expect the average win rate of the first player to be about .5, which is shown by our random evaluation above. \n",
    "2. MCTS shows a much higher score against the random opponent. At a C value above .5 up to 2, the average win rate stays above 98%, which is higher than the 50% random results.\n",
    "3. The best C seems to be .5 from my testing. \n"
   ]
  },
  {
   "cell_type": "markdown",
   "id": "31990eaa",
   "metadata": {},
   "source": []
  }
 ],
 "metadata": {
  "kernelspec": {
   "display_name": "Python 3",
   "language": "python",
   "name": "python3"
  },
  "language_info": {
   "codemirror_mode": {
    "name": "ipython",
    "version": 3
   },
   "file_extension": ".py",
   "mimetype": "text/x-python",
   "name": "python",
   "nbconvert_exporter": "python",
   "pygments_lexer": "ipython3",
   "version": "3.12.1"
  }
 },
 "nbformat": 4,
 "nbformat_minor": 5
}
